{
 "cells": [
  {
   "cell_type": "code",
   "execution_count": 1,
   "id": "3d49d798-d952-475a-ae2e-49ef271b7d47",
   "metadata": {},
   "outputs": [
    {
     "name": "stdout",
     "output_type": "stream",
     "text": [
      "\n",
      "image 1/1 C:\\Users\\Satoshi\\OneDrive\\Desktop\\mini-projects\\Images\\archive\\EmotionsDataset_Splitted\\data\\test\\angry\\1012.jpg: 224x224 angry 0.74, happy 0.23, sad 0.03, nothing 0.00, 21.1ms\n",
      "Speed: 19.2ms preprocess, 21.1ms inference, 0.0ms postprocess per image at shape (1, 3, 224, 224)\n",
      "Results saved to \u001b[1mruns\\classify\\predict\u001b[0m\n",
      "1 label saved to runs\\classify\\predict\\labels\n"
     ]
    }
   ],
   "source": [
    "from ultralytics import YOLO\n",
    "model = YOLO(\"runs/classify/train2/weights/best.pt\")\n",
    "results = model.predict(source='archive/EmotionsDataset_Splitted/data/test/angry/1012.jpg', save=True, save_txt=True)"
   ]
  },
  {
   "cell_type": "code",
   "execution_count": 18,
   "id": "415341c0-83fc-4d8e-a498-e1b85448b516",
   "metadata": {},
   "outputs": [
    {
     "data": {
      "text/plain": [
       "tensor(0)"
      ]
     },
     "execution_count": 18,
     "metadata": {},
     "output_type": "execute_result"
    }
   ],
   "source": [
    "np.argmax(results[0].probs.data)"
   ]
  },
  {
   "cell_type": "code",
   "execution_count": 14,
   "id": "ae4957b9-17d0-4b58-8ffd-a1e9bd718bb3",
   "metadata": {},
   "outputs": [
    {
     "name": "stdout",
     "output_type": "stream",
     "text": [
      "None\n",
      "None\n",
      "ultralytics.engine.results.Probs object with attributes:\n",
      "\n",
      "data: tensor([0.7376, 0.2314, 0.0017, 0.0293])\n",
      "orig_shape: None\n",
      "shape: torch.Size([4])\n",
      "top1: 0\n",
      "top1conf: tensor(0.7376)\n",
      "top5: [0, 1, 3, 2]\n",
      "top5conf: tensor([0.7376, 0.2314, 0.0293, 0.0017])\n"
     ]
    }
   ],
   "source": [
    "for result in results:\n",
    "   boxes = result.boxes  # Boxes object for bbox outputs\n",
    "   masks = result.masks  # Masks object for segmenation masks outputs\n",
    "   probs = result.probs  # Class probabilities\n",
    "   print(boxes)\n",
    "   print(masks)\n",
    "   print(probs)\n"
   ]
  },
  {
   "cell_type": "code",
   "execution_count": null,
   "id": "a15970bf-a6ef-4047-b34c-4468d2c3886f",
   "metadata": {},
   "outputs": [],
   "source": []
  }
 ],
 "metadata": {
  "kernelspec": {
   "display_name": "Python 3 (ipykernel)",
   "language": "python",
   "name": "python3"
  },
  "language_info": {
   "codemirror_mode": {
    "name": "ipython",
    "version": 3
   },
   "file_extension": ".py",
   "mimetype": "text/x-python",
   "name": "python",
   "nbconvert_exporter": "python",
   "pygments_lexer": "ipython3",
   "version": "3.10.11"
  }
 },
 "nbformat": 4,
 "nbformat_minor": 5
}
